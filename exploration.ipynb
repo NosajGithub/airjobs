{
 "cells": [
  {
   "cell_type": "code",
   "execution_count": 6,
   "metadata": {
    "collapsed": false
   },
   "outputs": [],
   "source": [
    "import pandas as pd\n",
    "%matplotlib inline\n",
    "import scipy"
   ]
  },
  {
   "cell_type": "code",
   "execution_count": 2,
   "metadata": {
    "collapsed": true
   },
   "outputs": [],
   "source": [
    "skills = pd.read_excel(\"data/skills.xlsx\")"
   ]
  },
  {
   "cell_type": "code",
   "execution_count": 3,
   "metadata": {
    "collapsed": false
   },
   "outputs": [
    {
     "data": {
      "text/html": [
       "<div>\n",
       "<table border=\"1\" class=\"dataframe\">\n",
       "  <thead>\n",
       "    <tr style=\"text-align: right;\">\n",
       "      <th></th>\n",
       "      <th>O*NET-SOC Code</th>\n",
       "      <th>Title</th>\n",
       "      <th>Element ID</th>\n",
       "      <th>Element Name</th>\n",
       "      <th>Scale ID</th>\n",
       "      <th>Scale Name</th>\n",
       "      <th>Data Value</th>\n",
       "      <th>N</th>\n",
       "      <th>Standard Error</th>\n",
       "      <th>Lower CI Bound</th>\n",
       "      <th>Upper CI Bound</th>\n",
       "      <th>Recommend Suppress</th>\n",
       "      <th>Not Relevant</th>\n",
       "      <th>Date</th>\n",
       "      <th>Domain Source</th>\n",
       "    </tr>\n",
       "  </thead>\n",
       "  <tbody>\n",
       "    <tr>\n",
       "      <th>0</th>\n",
       "      <td>11-1011.00</td>\n",
       "      <td>Chief Executives</td>\n",
       "      <td>2.A.1.a</td>\n",
       "      <td>Reading Comprehension</td>\n",
       "      <td>IM</td>\n",
       "      <td>Importance</td>\n",
       "      <td>4.12</td>\n",
       "      <td>8</td>\n",
       "      <td>0.13</td>\n",
       "      <td>3.88</td>\n",
       "      <td>4.37</td>\n",
       "      <td>N</td>\n",
       "      <td>NaN</td>\n",
       "      <td>07/2014</td>\n",
       "      <td>Analyst</td>\n",
       "    </tr>\n",
       "    <tr>\n",
       "      <th>1</th>\n",
       "      <td>11-1011.00</td>\n",
       "      <td>Chief Executives</td>\n",
       "      <td>2.A.1.a</td>\n",
       "      <td>Reading Comprehension</td>\n",
       "      <td>LV</td>\n",
       "      <td>Level</td>\n",
       "      <td>4.75</td>\n",
       "      <td>8</td>\n",
       "      <td>0.16</td>\n",
       "      <td>4.43</td>\n",
       "      <td>5.07</td>\n",
       "      <td>N</td>\n",
       "      <td>N</td>\n",
       "      <td>07/2014</td>\n",
       "      <td>Analyst</td>\n",
       "    </tr>\n",
       "    <tr>\n",
       "      <th>2</th>\n",
       "      <td>11-1011.00</td>\n",
       "      <td>Chief Executives</td>\n",
       "      <td>2.A.1.b</td>\n",
       "      <td>Active Listening</td>\n",
       "      <td>IM</td>\n",
       "      <td>Importance</td>\n",
       "      <td>4.12</td>\n",
       "      <td>8</td>\n",
       "      <td>0.13</td>\n",
       "      <td>3.88</td>\n",
       "      <td>4.37</td>\n",
       "      <td>N</td>\n",
       "      <td>NaN</td>\n",
       "      <td>07/2014</td>\n",
       "      <td>Analyst</td>\n",
       "    </tr>\n",
       "    <tr>\n",
       "      <th>3</th>\n",
       "      <td>11-1011.00</td>\n",
       "      <td>Chief Executives</td>\n",
       "      <td>2.A.1.b</td>\n",
       "      <td>Active Listening</td>\n",
       "      <td>LV</td>\n",
       "      <td>Level</td>\n",
       "      <td>4.88</td>\n",
       "      <td>8</td>\n",
       "      <td>0.23</td>\n",
       "      <td>4.43</td>\n",
       "      <td>5.32</td>\n",
       "      <td>N</td>\n",
       "      <td>N</td>\n",
       "      <td>07/2014</td>\n",
       "      <td>Analyst</td>\n",
       "    </tr>\n",
       "    <tr>\n",
       "      <th>4</th>\n",
       "      <td>11-1011.00</td>\n",
       "      <td>Chief Executives</td>\n",
       "      <td>2.A.1.c</td>\n",
       "      <td>Writing</td>\n",
       "      <td>IM</td>\n",
       "      <td>Importance</td>\n",
       "      <td>4.00</td>\n",
       "      <td>8</td>\n",
       "      <td>0.00</td>\n",
       "      <td>4.00</td>\n",
       "      <td>4.00</td>\n",
       "      <td>N</td>\n",
       "      <td>NaN</td>\n",
       "      <td>07/2014</td>\n",
       "      <td>Analyst</td>\n",
       "    </tr>\n",
       "  </tbody>\n",
       "</table>\n",
       "</div>"
      ],
      "text/plain": [
       "  O*NET-SOC Code             Title Element ID           Element Name Scale ID  \\\n",
       "0     11-1011.00  Chief Executives    2.A.1.a  Reading Comprehension       IM   \n",
       "1     11-1011.00  Chief Executives    2.A.1.a  Reading Comprehension       LV   \n",
       "2     11-1011.00  Chief Executives    2.A.1.b       Active Listening       IM   \n",
       "3     11-1011.00  Chief Executives    2.A.1.b       Active Listening       LV   \n",
       "4     11-1011.00  Chief Executives    2.A.1.c                Writing       IM   \n",
       "\n",
       "   Scale Name  Data Value  N  Standard Error  Lower CI Bound  Upper CI Bound  \\\n",
       "0  Importance        4.12  8            0.13            3.88            4.37   \n",
       "1       Level        4.75  8            0.16            4.43            5.07   \n",
       "2  Importance        4.12  8            0.13            3.88            4.37   \n",
       "3       Level        4.88  8            0.23            4.43            5.32   \n",
       "4  Importance        4.00  8            0.00            4.00            4.00   \n",
       "\n",
       "  Recommend Suppress Not Relevant     Date Domain Source  \n",
       "0                  N          NaN  07/2014       Analyst  \n",
       "1                  N            N  07/2014       Analyst  \n",
       "2                  N          NaN  07/2014       Analyst  \n",
       "3                  N            N  07/2014       Analyst  \n",
       "4                  N          NaN  07/2014       Analyst  "
      ]
     },
     "execution_count": 3,
     "metadata": {},
     "output_type": "execute_result"
    }
   ],
   "source": [
    "skills.head(5)"
   ]
  },
  {
   "cell_type": "code",
   "execution_count": null,
   "metadata": {
    "collapsed": true
   },
   "outputs": [],
   "source": []
  }
 ],
 "metadata": {
  "kernelspec": {
   "display_name": "Python 2",
   "language": "python",
   "name": "python2"
  },
  "language_info": {
   "codemirror_mode": {
    "name": "ipython",
    "version": 2
   },
   "file_extension": ".py",
   "mimetype": "text/x-python",
   "name": "python",
   "nbconvert_exporter": "python",
   "pygments_lexer": "ipython2",
   "version": "2.7.10"
  }
 },
 "nbformat": 4,
 "nbformat_minor": 0
}
